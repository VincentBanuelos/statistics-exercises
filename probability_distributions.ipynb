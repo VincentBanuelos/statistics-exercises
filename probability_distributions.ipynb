{
 "cells": [
  {
   "cell_type": "code",
   "execution_count": 1,
   "id": "e6593b5a",
   "metadata": {},
   "outputs": [],
   "source": [
    "import matplotlib.pyplot as plt\n",
    "import numpy as np\n",
    "import pandas as pd\n",
    "from scipy import stats"
   ]
  },
  {
   "cell_type": "markdown",
   "id": "43e8995b",
   "metadata": {},
   "source": [
    "For the following problems, use python to simulate the problem and calculate an experimental probability, then compare that to the theoretical probability."
   ]
  },
  {
   "cell_type": "markdown",
   "id": "76e41b06",
   "metadata": {},
   "source": [
    "- value -> probability  \n",
    "   -- pmf: probability at a particular value of random variable (only for discrete distributions!)  \n",
    "    -- pdf: probability at a particular value of random variable (for continuous distributions)  \n",
    "   -- cdf: cumulative probablity for less than or equal to value of random variable     \n",
    "   -- sf:  probability for a random variable **greater than** certain value\n",
    "- probability -> value  \n",
    "   -- ppf: less than or equal to a point   \n",
    "   -- isf: greater than a point  \n",
    "- rvs for random values "
   ]
  },
  {
   "cell_type": "markdown",
   "id": "a3ba7445",
   "metadata": {},
   "source": [
    "### 1. A bank found that the average number of cars waiting during the noon hour at a drive-up window follows a Poisson distribution with a mean of 2 cars. Make a chart of this distribution and answer these questions concerning the probability of cars waiting at the drive-up window."
   ]
  },
  {
   "cell_type": "code",
   "execution_count": 2,
   "id": "d752df7f",
   "metadata": {},
   "outputs": [
    {
     "data": {
      "image/png": "[encoded data removed]",
      "text/plain": [
       "<Figure size 432x288 with 1 Axes>"
      ]
     },
     "metadata": {
      "needs_background": "light"
     },
     "output_type": "display_data"
    }
   ],
   "source": [
    "x = np.arange(0, 12)\n",
    "y = stats.poisson(2).pmf(x)\n",
    "\n",
    "plt.bar(x, y)\n",
    "plt.title('Cars in Line?')\n",
    "plt.xlabel('$x$ - Number of Cars')\n",
    "plt.ylabel('Probability')\n",
    "plt.show()"
   ]
  },
  {
   "cell_type": "markdown",
   "id": "e08b75e4",
   "metadata": {},
   "source": [
    "#### - What is the probability that no cars drive up in the noon hour?"
   ]
  },
  {
   "cell_type": "markdown",
   "id": "cbaa7b1b",
   "metadata": {},
   "source": [
    "#### Simluated Solution"
   ]
  },
  {
   "cell_type": "code",
   "execution_count": 3,
   "id": "b16408d4",
   "metadata": {},
   "outputs": [
    {
     "data": {
      "text/plain": [
       "array([4, 3, 2, ..., 2, 3, 1])"
      ]
     },
     "execution_count": 3,
     "metadata": {},
     "output_type": "execute_result"
    }
   ],
   "source": [
    "cars = np.random.poisson(2,1000000)\n",
    "cars"
   ]
  },
  {
   "cell_type": "code",
   "execution_count": 4,
   "id": "5e4fade8",
   "metadata": {},
   "outputs": [
    {
     "data": {
      "text/plain": [
       "0.135551"
      ]
     },
     "execution_count": 4,
     "metadata": {},
     "output_type": "execute_result"
    }
   ],
   "source": [
    "(cars == 0).mean()"
   ]
  },
  {
   "cell_type": "markdown",
   "id": "ade263b8",
   "metadata": {},
   "source": [
    "#### Theorectical Solution"
   ]
  },
  {
   "cell_type": "code",
   "execution_count": 5,
   "id": "78d8a988",
   "metadata": {},
   "outputs": [],
   "source": [
    "cars_dist = stats.poisson(2)"
   ]
  },
  {
   "cell_type": "code",
   "execution_count": 6,
   "id": "58606252",
   "metadata": {},
   "outputs": [
    {
     "data": {
      "text/plain": [
       "0.1353352832366127"
      ]
     },
     "execution_count": 6,
     "metadata": {},
     "output_type": "execute_result"
    }
   ],
   "source": [
    "cars_dist.pmf(0)"
   ]
  },
  {
   "cell_type": "markdown",
   "id": "61c76c64",
   "metadata": {},
   "source": [
    "#### - What is the probability that 3 or more cars come through the drive through?"
   ]
  },
  {
   "cell_type": "markdown",
   "id": "31b1ad39",
   "metadata": {},
   "source": [
    "#### Simulated Solution"
   ]
  },
  {
   "cell_type": "code",
   "execution_count": 7,
   "id": "5291fb73",
   "metadata": {},
   "outputs": [
    {
     "data": {
      "text/plain": [
       "0.322989"
      ]
     },
     "execution_count": 7,
     "metadata": {},
     "output_type": "execute_result"
    }
   ],
   "source": [
    "(cars >= 3).mean()"
   ]
  },
  {
   "cell_type": "markdown",
   "id": "0935bfb6",
   "metadata": {},
   "source": [
    "#### Theorectical Solution"
   ]
  },
  {
   "cell_type": "code",
   "execution_count": 8,
   "id": "5fa808f1",
   "metadata": {},
   "outputs": [
    {
     "data": {
      "text/plain": [
       "0.32332358381693654"
      ]
     },
     "execution_count": 8,
     "metadata": {},
     "output_type": "execute_result"
    }
   ],
   "source": [
    "cars_dist.sf(2)"
   ]
  },
  {
   "cell_type": "markdown",
   "id": "2164dcd3",
   "metadata": {},
   "source": [
    "#### - How likely is it that the drive through gets at least 1 car?"
   ]
  },
  {
   "cell_type": "markdown",
   "id": "4a192f05",
   "metadata": {},
   "source": [
    "#### Simulated Solution"
   ]
  },
  {
   "cell_type": "code",
   "execution_count": 9,
   "id": "49b19f82",
   "metadata": {},
   "outputs": [
    {
     "data": {
      "text/plain": [
       "0.864449"
      ]
     },
     "execution_count": 9,
     "metadata": {},
     "output_type": "execute_result"
    }
   ],
   "source": [
    "(cars >= 1).mean()"
   ]
  },
  {
   "cell_type": "markdown",
   "id": "1b155cc6",
   "metadata": {},
   "source": [
    "#### Theorectical Solution"
   ]
  },
  {
   "cell_type": "code",
   "execution_count": 10,
   "id": "b1491a24",
   "metadata": {},
   "outputs": [
    {
     "data": {
      "text/plain": [
       "0.8646647167633873"
      ]
     },
     "execution_count": 10,
     "metadata": {},
     "output_type": "execute_result"
    }
   ],
   "source": [
    "cars_dist.sf(0)"
   ]
  },
  {
   "cell_type": "markdown",
   "id": "0c7fa0d3",
   "metadata": {},
   "source": [
    "### 2. Grades of State University graduates are normally distributed with a mean of 3.0 and a standard deviation of .3. Calculate the following:"
   ]
  },
  {
   "cell_type": "code",
   "execution_count": 11,
   "id": "ababaded",
   "metadata": {},
   "outputs": [
    {
     "data": {
      "text/plain": [
       "array([3.98836409, 3.07447809, 3.66010078, ..., 2.89360041, 3.31048512,\n",
       "       3.15828001])"
      ]
     },
     "execution_count": 11,
     "metadata": {},
     "output_type": "execute_result"
    }
   ],
   "source": [
    "# Generates an array of 10,000 values based on a normal distribution around a mean of 3 and a std dev of 0.3\n",
    "grades = np.random.normal(3,.3, 100000)\n",
    "grades"
   ]
  },
  {
   "cell_type": "code",
   "execution_count": 12,
   "id": "8c287d41",
   "metadata": {},
   "outputs": [],
   "source": [
    "μ = 3\n",
    "σ = .3\n",
    "\n",
    "grades_dist = stats.norm(μ, σ)"
   ]
  },
  {
   "cell_type": "markdown",
   "id": "436ebea8",
   "metadata": {},
   "source": [
    "#### - What grade point average is required to be in the top 5% of the graduating class?"
   ]
  },
  {
   "cell_type": "markdown",
   "id": "c11395d5",
   "metadata": {},
   "source": [
    "#### Simulated Solution"
   ]
  },
  {
   "cell_type": "code",
   "execution_count": 13,
   "id": "f01b33bc",
   "metadata": {},
   "outputs": [
    {
     "data": {
      "text/plain": [
       "3.495502264378178"
      ]
     },
     "execution_count": 13,
     "metadata": {},
     "output_type": "execute_result"
    }
   ],
   "source": [
    "# Calculates the 95th percentile of the random values\n",
    "pd.Series(grades).quantile(.95)"
   ]
  },
  {
   "cell_type": "markdown",
   "id": "e5185809",
   "metadata": {},
   "source": [
    "#### Theorectical Solution"
   ]
  },
  {
   "cell_type": "code",
   "execution_count": 14,
   "id": "b770f2ac",
   "metadata": {},
   "outputs": [
    {
     "data": {
      "text/plain": [
       "3.4934560880854417"
      ]
     },
     "execution_count": 14,
     "metadata": {},
     "output_type": "execute_result"
    }
   ],
   "source": [
    "grades_dist.isf(.05)"
   ]
  },
  {
   "cell_type": "markdown",
   "id": "ff603e92",
   "metadata": {},
   "source": [
    "#### - What GPA constitutes the bottom 15% of the class?"
   ]
  },
  {
   "cell_type": "markdown",
   "id": "1f7983ac",
   "metadata": {},
   "source": [
    "#### Simulated Solution"
   ]
  },
  {
   "cell_type": "code",
   "execution_count": 15,
   "id": "cdb2e02a",
   "metadata": {},
   "outputs": [
    {
     "data": {
      "text/plain": [
       "2.6878058079099474"
      ]
     },
     "execution_count": 15,
     "metadata": {},
     "output_type": "execute_result"
    }
   ],
   "source": [
    "# Calculates the 15th percentile of the random values\n",
    "pd.Series(grades).quantile(.15)"
   ]
  },
  {
   "cell_type": "markdown",
   "id": "78435c9f",
   "metadata": {},
   "source": [
    "#### Theorectical Solution"
   ]
  },
  {
   "cell_type": "code",
   "execution_count": 16,
   "id": "f383ce58",
   "metadata": {},
   "outputs": [
    {
     "data": {
      "text/plain": [
       "2.689069983151863"
      ]
     },
     "execution_count": 16,
     "metadata": {},
     "output_type": "execute_result"
    }
   ],
   "source": [
    "grades_dist.ppf(.15)"
   ]
  },
  {
   "cell_type": "markdown",
   "id": "b569b3c3",
   "metadata": {},
   "source": [
    "#### - An eccentric alumnus left scholarship money for students in the third decile from the bottom of their class. Determine the range of the third decile. Would a student with a 2.8 grade point average qualify for this scholarship?"
   ]
  },
  {
   "cell_type": "markdown",
   "id": "a9274bfc",
   "metadata": {},
   "source": [
    "#### Simulated Solution"
   ]
  },
  {
   "cell_type": "code",
   "execution_count": 17,
   "id": "0aa86de0",
   "metadata": {},
   "outputs": [
    {
     "data": {
      "text/plain": [
       "2.841862406397239"
      ]
     },
     "execution_count": 17,
     "metadata": {},
     "output_type": "execute_result"
    }
   ],
   "source": [
    "pd.Series(grades).quantile(.30)"
   ]
  },
  {
   "cell_type": "code",
   "execution_count": 18,
   "id": "919d9ee4",
   "metadata": {},
   "outputs": [
    {
     "data": {
      "text/plain": [
       "2.842679846187588"
      ]
     },
     "execution_count": 18,
     "metadata": {},
     "output_type": "execute_result"
    }
   ],
   "source": [
    "#need to find the 3rd decile from the bottom, or bottom 30th percent\n",
    "\n",
    "grades_dist.ppf(.30) #This will give me the lowest gpa acceptable"
   ]
  },
  {
   "cell_type": "markdown",
   "id": "d88ba976",
   "metadata": {},
   "source": [
    "#### - If I have a GPA of 3.5, what percentile am I in?"
   ]
  },
  {
   "cell_type": "markdown",
   "id": "2d2b1ba4",
   "metadata": {},
   "source": [
    "#### Simulated Solution"
   ]
  },
  {
   "cell_type": "code",
   "execution_count": 19,
   "id": "f3a73b60",
   "metadata": {},
   "outputs": [
    {
     "data": {
      "text/plain": [
       "0.95178"
      ]
     },
     "execution_count": 19,
     "metadata": {},
     "output_type": "execute_result"
    }
   ],
   "source": [
    "1 - (grades >= 3.5).mean()"
   ]
  },
  {
   "cell_type": "markdown",
   "id": "64235b31",
   "metadata": {},
   "source": [
    "#### Theoretical Solution"
   ]
  },
  {
   "cell_type": "code",
   "execution_count": 20,
   "id": "218b8c4e",
   "metadata": {},
   "outputs": [
    {
     "data": {
      "text/plain": [
       "0.9522096477271853"
      ]
     },
     "execution_count": 20,
     "metadata": {},
     "output_type": "execute_result"
    }
   ],
   "source": [
    "grades_dist.cdf(3.5)"
   ]
  },
  {
   "cell_type": "markdown",
   "id": "f0e437e4",
   "metadata": {},
   "source": [
    "### 3. A marketing website has an average click-through rate of 2%. One day they observe 4326 visitors and 97 click-throughs. How likely is it that this many people or more click through?"
   ]
  },
  {
   "cell_type": "code",
   "execution_count": 21,
   "id": "1ff74ffb",
   "metadata": {},
   "outputs": [
    {
     "data": {
      "text/plain": [
       "array([4325.98695878, 4325.94862493, 4326.0013119 , ..., 4326.00501773,\n",
       "       4326.00741662, 4326.0118039 ])"
      ]
     },
     "execution_count": 21,
     "metadata": {},
     "output_type": "execute_result"
    }
   ],
   "source": [
    "# Generates an array of 10,000 values based on a normal distribution around a mean of 3 and a std dev of 0.3\n",
    "ctr = np.random.normal(4326,.02, 100000)\n",
    "ctr"
   ]
  },
  {
   "cell_type": "markdown",
   "id": "b7ba7672",
   "metadata": {},
   "source": [
    "#### Simulated Solution"
   ]
  },
  {
   "cell_type": "code",
   "execution_count": 22,
   "id": "4420de6d",
   "metadata": {},
   "outputs": [
    {
     "data": {
      "text/plain": [
       "array([[0, 0, 0, ..., 0, 0, 0],\n",
       "       [0, 0, 0, ..., 0, 0, 0],\n",
       "       [0, 0, 0, ..., 0, 0, 0],\n",
       "       ...,\n",
       "       [0, 0, 0, ..., 0, 0, 0],\n",
       "       [0, 0, 0, ..., 0, 0, 0],\n",
       "       [0, 0, 0, ..., 0, 0, 0]])"
      ]
     },
     "execution_count": 22,
     "metadata": {},
     "output_type": "execute_result"
    }
   ],
   "source": [
    "ctr = (np.random.choice([1, 0], p=[.02, .98], size=(100000, 4326)))\n",
    "ctr"
   ]
  },
  {
   "cell_type": "code",
   "execution_count": 23,
   "id": "5500c44f",
   "metadata": {},
   "outputs": [
    {
     "data": {
      "text/plain": [
       "array([80, 89, 85, ..., 91, 69, 89])"
      ]
     },
     "execution_count": 23,
     "metadata": {},
     "output_type": "execute_result"
    }
   ],
   "source": [
    "ctr.sum(axis=1)"
   ]
  },
  {
   "cell_type": "code",
   "execution_count": 24,
   "id": "762228be",
   "metadata": {},
   "outputs": [
    {
     "data": {
      "text/plain": [
       "0.14075"
      ]
     },
     "execution_count": 24,
     "metadata": {},
     "output_type": "execute_result"
    }
   ],
   "source": [
    "(ctr.sum(axis=1) >= 97).mean()"
   ]
  },
  {
   "cell_type": "markdown",
   "id": "5a1dc302",
   "metadata": {},
   "source": [
    "#### Theorectical Solution "
   ]
  },
  {
   "cell_type": "code",
   "execution_count": 25,
   "id": "0370b409",
   "metadata": {},
   "outputs": [
    {
     "data": {
      "text/plain": [
       "0.13975823631416448"
      ]
     },
     "execution_count": 25,
     "metadata": {},
     "output_type": "execute_result"
    }
   ],
   "source": [
    "ctr_dist = stats.binom(4326, .02)\n",
    "\n",
    "ctr_dist.sf(96)"
   ]
  },
  {
   "cell_type": "markdown",
   "id": "f3e3ac52",
   "metadata": {},
   "source": [
    "### 4. You are working on some statistics homework consisting of 100 questions where all of the answers are a probability rounded to the hundreths place. Looking to save time, you put down random probabilities as the answer to each question.\n",
    "\n",
    "- What is the probability that at least one of your first 60 answers is correct?"
   ]
  },
  {
   "cell_type": "markdown",
   "id": "70b7b65c",
   "metadata": {},
   "source": [
    "#### Simulation Solution"
   ]
  },
  {
   "cell_type": "code",
   "execution_count": 26,
   "id": "109bc119",
   "metadata": {},
   "outputs": [
    {
     "data": {
      "text/plain": [
       "array([[0, 0, 0, ..., 0, 0, 0],\n",
       "       [0, 0, 0, ..., 0, 0, 0],\n",
       "       [0, 0, 0, ..., 0, 0, 0],\n",
       "       ...,\n",
       "       [0, 0, 0, ..., 0, 0, 0],\n",
       "       [0, 0, 0, ..., 0, 0, 0],\n",
       "       [0, 0, 0, ..., 0, 0, 0]])"
      ]
     },
     "execution_count": 26,
     "metadata": {},
     "output_type": "execute_result"
    }
   ],
   "source": [
    "guesses = (np.random.choice([1, 0], p=[.01, .99], size=(100000, 60)))\n",
    "guesses"
   ]
  },
  {
   "cell_type": "code",
   "execution_count": 27,
   "id": "285272be",
   "metadata": {},
   "outputs": [
    {
     "data": {
      "text/plain": [
       "array([False,  True, False, ..., False,  True, False])"
      ]
     },
     "execution_count": 27,
     "metadata": {},
     "output_type": "execute_result"
    }
   ],
   "source": [
    "guesses.sum(axis=1) >= 1"
   ]
  },
  {
   "cell_type": "code",
   "execution_count": 28,
   "id": "859ccf51",
   "metadata": {},
   "outputs": [
    {
     "data": {
      "text/plain": [
       "0.45223"
      ]
     },
     "execution_count": 28,
     "metadata": {},
     "output_type": "execute_result"
    }
   ],
   "source": [
    "(guesses.sum(axis=1) >= 1).mean()"
   ]
  },
  {
   "cell_type": "markdown",
   "id": "b7832d94",
   "metadata": {},
   "source": [
    "#### Theoretical Solution"
   ]
  },
  {
   "cell_type": "code",
   "execution_count": 29,
   "id": "5379d8e5",
   "metadata": {},
   "outputs": [
    {
     "data": {
      "text/plain": [
       "0.45284335760923855"
      ]
     },
     "execution_count": 29,
     "metadata": {},
     "output_type": "execute_result"
    }
   ],
   "source": [
    "stats.binom(60, .01).sf(0)"
   ]
  },
  {
   "cell_type": "markdown",
   "id": "be555108",
   "metadata": {},
   "source": [
    "### 5. The codeup staff tends to get upset when the student break area is not cleaned up. Suppose that there's a 3% chance that any one student cleans the break area when they visit it, and, on any given day, about 90% of the 3 active cohorts of 22 students visit the break area. "
   ]
  },
  {
   "cell_type": "markdown",
   "id": "2b26ac19",
   "metadata": {},
   "source": [
    "- How likely is it that the break area gets cleaned up each day?\n"
   ]
  },
  {
   "cell_type": "markdown",
   "id": "aaa2fbb9",
   "metadata": {},
   "source": [
    "#### Simulated Solution"
   ]
  },
  {
   "cell_type": "code",
   "execution_count": 30,
   "id": "07116586",
   "metadata": {},
   "outputs": [
    {
     "data": {
      "text/plain": [
       "array([[0, 0, 0, ..., 0, 0, 0],\n",
       "       [0, 0, 0, ..., 0, 0, 0],\n",
       "       [0, 0, 0, ..., 0, 0, 0],\n",
       "       ...,\n",
       "       [0, 0, 0, ..., 0, 0, 0],\n",
       "       [0, 0, 0, ..., 0, 0, 0],\n",
       "       [0, 0, 0, ..., 0, 0, 0]])"
      ]
     },
     "execution_count": 30,
     "metadata": {},
     "output_type": "execute_result"
    }
   ],
   "source": [
    "breakroom = np.random.choice([1 , 0], size = (10_000, 59), p = [.03, .97])\n",
    "breakroom"
   ]
  },
  {
   "cell_type": "code",
   "execution_count": 31,
   "id": "04a04804",
   "metadata": {},
   "outputs": [
    {
     "data": {
      "text/plain": [
       "0.8283"
      ]
     },
     "execution_count": 31,
     "metadata": {},
     "output_type": "execute_result"
    }
   ],
   "source": [
    "(breakroom.sum(axis=1)> 0).mean()"
   ]
  },
  {
   "cell_type": "markdown",
   "id": "8d0f9123",
   "metadata": {},
   "source": [
    "#### Theoretical Solution"
   ]
  },
  {
   "cell_type": "code",
   "execution_count": 32,
   "id": "9c18b696",
   "metadata": {},
   "outputs": [
    {
     "data": {
      "text/plain": [
       "0.8342199288437352"
      ]
     },
     "execution_count": 32,
     "metadata": {},
     "output_type": "execute_result"
    }
   ],
   "source": [
    "stats.binom(59, .03).sf(0)"
   ]
  },
  {
   "cell_type": "markdown",
   "id": "3c3dbfa6",
   "metadata": {},
   "source": [
    "- How likely is it that it goes two days without getting cleaned up? All week?\n"
   ]
  },
  {
   "cell_type": "markdown",
   "id": "2249851b",
   "metadata": {},
   "source": [
    "#### Simulated Solution"
   ]
  },
  {
   "cell_type": "code",
   "execution_count": 33,
   "id": "011d862b",
   "metadata": {},
   "outputs": [
    {
     "data": {
      "text/plain": [
       "0.2719"
      ]
     },
     "execution_count": 33,
     "metadata": {},
     "output_type": "execute_result"
    }
   ],
   "source": [
    "(breakroom.sum(axis=1) == 2).mean()"
   ]
  },
  {
   "cell_type": "code",
   "execution_count": 34,
   "id": "20c8bcfb",
   "metadata": {},
   "outputs": [
    {
     "data": {
      "text/plain": [
       "0.0017"
      ]
     },
     "execution_count": 34,
     "metadata": {},
     "output_type": "execute_result"
    }
   ],
   "source": [
    "(breakroom.sum(axis=1) == 7).mean()"
   ]
  },
  {
   "cell_type": "markdown",
   "id": "43c042c9",
   "metadata": {},
   "source": [
    "#### Theoretical Solution"
   ]
  },
  {
   "cell_type": "code",
   "execution_count": 35,
   "id": "b82c9f9d",
   "metadata": {},
   "outputs": [
    {
     "data": {
      "text/plain": [
       "0.27131972746682126"
      ]
     },
     "execution_count": 35,
     "metadata": {},
     "output_type": "execute_result"
    }
   ],
   "source": [
    "stats.binom(59, .03).pmf(2)"
   ]
  },
  {
   "cell_type": "code",
   "execution_count": 36,
   "id": "4d175b8c",
   "metadata": {},
   "outputs": [
    {
     "data": {
      "text/plain": [
       "0.0015308182645021292"
      ]
     },
     "execution_count": 36,
     "metadata": {},
     "output_type": "execute_result"
    }
   ],
   "source": [
    "stats.binom(59, .03).pmf(7)"
   ]
  },
  {
   "cell_type": "markdown",
   "id": "5aa5e987",
   "metadata": {},
   "source": [
    "- value -> probability  \n",
    "   -- pmf: probability at a particular value of random variable (only for discrete distributions!)  \n",
    "    -- pdf: probability at a particular value of random variable (for continuous distributions)  \n",
    "   -- cdf: cumulative probablity for less than or equal to value of random variable     \n",
    "   -- sf:  probability for a random variable **greater than** certain value\n",
    "- probability -> value  \n",
    "   -- ppf: less than or equal to a point   \n",
    "   -- isf: greater than a point  \n",
    "- rvs for random values "
   ]
  },
  {
   "cell_type": "markdown",
   "id": "5df16ad0",
   "metadata": {},
   "source": [
    "### 6. You want to get lunch at La Panaderia, but notice that the line is usually very long at lunchtime. After several weeks of careful observation, you notice that the average number of people in line when your lunch break starts is normally distributed with a mean of 15 and standard deviation of 3. If it takes 2 minutes for each person to order, and 10 minutes from ordering to getting your food, what is the likelihood that you have at least 15 minutes left to eat your food before you have to go back to class? Assume you have one hour for lunch, and ignore travel time to and from La Panaderia."
   ]
  },
  {
   "cell_type": "markdown",
   "id": "4143d0ef",
   "metadata": {},
   "source": [
    "#### Simulated Simulation"
   ]
  },
  {
   "cell_type": "code",
   "execution_count": 37,
   "id": "ed49bff1",
   "metadata": {},
   "outputs": [
    {
     "data": {
      "text/plain": [
       "0.6962"
      ]
     },
     "execution_count": 37,
     "metadata": {},
     "output_type": "execute_result"
    }
   ],
   "source": [
    "μ= 15 * 2\n",
    "σ = 3 * 2 \n",
    "\n",
    "\n",
    "lunchbreak_time = 60\n",
    "minutes_to_get_food = 10\n",
    "minutes_to_eat = 15\n",
    "\n",
    "\n",
    "spare_time = lunchbreak_time - minutes_to_get_food - minutes_to_eat - 2\n",
    "\n",
    "lunchtime = np.random.normal(μ, σ, size = 10000)\n",
    "\n",
    "\n",
    "(lunchtime <= spare_time).mean()"
   ]
  },
  {
   "cell_type": "markdown",
   "id": "015db9c8",
   "metadata": {},
   "source": [
    "#### Theoretical Simulation"
   ]
  },
  {
   "cell_type": "code",
   "execution_count": 38,
   "id": "8b8c2629",
   "metadata": {},
   "outputs": [
    {
     "data": {
      "text/plain": [
       "0.6914624612740131"
      ]
     },
     "execution_count": 38,
     "metadata": {},
     "output_type": "execute_result"
    }
   ],
   "source": [
    "# this will make the mean how long it takes a person to order\n",
    "μ = 15 * 2 \n",
    "\n",
    "# taking standard deviation of people in line * minutes it take each person to order\n",
    "# this converts the standard deviation from people to minutes\n",
    "σ = 3 * 2 \n",
    "\n",
    "lunchbreak_time = 60\n",
    "minutes_to_get_food = 10\n",
    "minutes_to_eat = 15\n",
    "\n",
    "spare_time = lunchbreak_time - minutes_to_get_food - minutes_to_eat - 2\n",
    "\n",
    "stats.norm(μ, σ).cdf(spare_time)"
   ]
  },
  {
   "cell_type": "markdown",
   "id": "03fd9421",
   "metadata": {},
   "source": [
    "#### 7. Connect to the employees database and find the average salary of current employees, along with the standard deviation. For the following questions, calculate the answer based on modeling the employees salaries with a normal distribution defined by the calculated mean and standard deviation then compare this answer to the actual values present in the salaries dataset."
   ]
  },
  {
   "cell_type": "code",
   "execution_count": 39,
   "id": "44e8b25d",
   "metadata": {},
   "outputs": [
    {
     "data": {
      "text/html": [
       "<div>\n",
       "<style scoped>\n",
       "    .dataframe tbody tr th:only-of-type {\n",
       "        vertical-align: middle;\n",
       "    }\n",
       "\n",
       "    .dataframe tbody tr th {\n",
       "        vertical-align: top;\n",
       "    }\n",
       "\n",
       "    .dataframe thead th {\n",
       "        text-align: right;\n",
       "    }\n",
       "</style>\n",
       "<table border=\"1\" class=\"dataframe\">\n",
       "  <thead>\n",
       "    <tr style=\"text-align: right;\">\n",
       "      <th></th>\n",
       "      <th>emp_no</th>\n",
       "      <th>salary</th>\n",
       "      <th>from_date</th>\n",
       "      <th>to_date</th>\n",
       "    </tr>\n",
       "  </thead>\n",
       "  <tbody>\n",
       "    <tr>\n",
       "      <th>0</th>\n",
       "      <td>10001</td>\n",
       "      <td>88958</td>\n",
       "      <td>2002-06-22</td>\n",
       "      <td>9999-01-01</td>\n",
       "    </tr>\n",
       "    <tr>\n",
       "      <th>1</th>\n",
       "      <td>10002</td>\n",
       "      <td>72527</td>\n",
       "      <td>2001-08-02</td>\n",
       "      <td>9999-01-01</td>\n",
       "    </tr>\n",
       "    <tr>\n",
       "      <th>2</th>\n",
       "      <td>10003</td>\n",
       "      <td>43311</td>\n",
       "      <td>2001-12-01</td>\n",
       "      <td>9999-01-01</td>\n",
       "    </tr>\n",
       "    <tr>\n",
       "      <th>3</th>\n",
       "      <td>10004</td>\n",
       "      <td>74057</td>\n",
       "      <td>2001-11-27</td>\n",
       "      <td>9999-01-01</td>\n",
       "    </tr>\n",
       "    <tr>\n",
       "      <th>4</th>\n",
       "      <td>10005</td>\n",
       "      <td>94692</td>\n",
       "      <td>2001-09-09</td>\n",
       "      <td>9999-01-01</td>\n",
       "    </tr>\n",
       "    <tr>\n",
       "      <th>...</th>\n",
       "      <td>...</td>\n",
       "      <td>...</td>\n",
       "      <td>...</td>\n",
       "      <td>...</td>\n",
       "    </tr>\n",
       "    <tr>\n",
       "      <th>240119</th>\n",
       "      <td>499995</td>\n",
       "      <td>52868</td>\n",
       "      <td>2002-06-01</td>\n",
       "      <td>9999-01-01</td>\n",
       "    </tr>\n",
       "    <tr>\n",
       "      <th>240120</th>\n",
       "      <td>499996</td>\n",
       "      <td>69501</td>\n",
       "      <td>2002-05-12</td>\n",
       "      <td>9999-01-01</td>\n",
       "    </tr>\n",
       "    <tr>\n",
       "      <th>240121</th>\n",
       "      <td>499997</td>\n",
       "      <td>83441</td>\n",
       "      <td>2001-08-26</td>\n",
       "      <td>9999-01-01</td>\n",
       "    </tr>\n",
       "    <tr>\n",
       "      <th>240122</th>\n",
       "      <td>499998</td>\n",
       "      <td>55003</td>\n",
       "      <td>2001-12-25</td>\n",
       "      <td>9999-01-01</td>\n",
       "    </tr>\n",
       "    <tr>\n",
       "      <th>240123</th>\n",
       "      <td>499999</td>\n",
       "      <td>77303</td>\n",
       "      <td>2001-11-29</td>\n",
       "      <td>9999-01-01</td>\n",
       "    </tr>\n",
       "  </tbody>\n",
       "</table>\n",
       "<p>240124 rows × 4 columns</p>\n",
       "</div>"
      ],
      "text/plain": [
       "        emp_no  salary   from_date     to_date\n",
       "0        10001   88958  2002-06-22  9999-01-01\n",
       "1        10002   72527  2001-08-02  9999-01-01\n",
       "2        10003   43311  2001-12-01  9999-01-01\n",
       "3        10004   74057  2001-11-27  9999-01-01\n",
       "4        10005   94692  2001-09-09  9999-01-01\n",
       "...        ...     ...         ...         ...\n",
       "240119  499995   52868  2002-06-01  9999-01-01\n",
       "240120  499996   69501  2002-05-12  9999-01-01\n",
       "240121  499997   83441  2001-08-26  9999-01-01\n",
       "240122  499998   55003  2001-12-25  9999-01-01\n",
       "240123  499999   77303  2001-11-29  9999-01-01\n",
       "\n",
       "[240124 rows x 4 columns]"
      ]
     },
     "execution_count": 39,
     "metadata": {},
     "output_type": "execute_result"
    }
   ],
   "source": [
    "import env\n",
    "url = f'mysql+pymysql://{env.user}:{env.password}@{env.host}/employees'\n",
    "    \n",
    "salaries = pd.read_sql('SELECT * FROM salaries WHERE to_date > NOW()', url)\n",
    "salaries"
   ]
  },
  {
   "cell_type": "markdown",
   "id": "40845701",
   "metadata": {},
   "source": [
    "- What percent of employees earn less than 60,000?"
   ]
  },
  {
   "cell_type": "code",
   "execution_count": 40,
   "id": "ec05c98c",
   "metadata": {},
   "outputs": [],
   "source": [
    "μ = salaries.salary.mean()\n",
    "σ = salaries.salary.std()"
   ]
  },
  {
   "cell_type": "code",
   "execution_count": 41,
   "id": "d85063f7",
   "metadata": {},
   "outputs": [
    {
     "data": {
      "text/plain": [
       "0.24385742480214423"
      ]
     },
     "execution_count": 41,
     "metadata": {},
     "output_type": "execute_result"
    }
   ],
   "source": [
    "stats.norm(μ, σ).cdf(60000)"
   ]
  },
  {
   "cell_type": "markdown",
   "id": "40419cc9",
   "metadata": {},
   "source": [
    "- What percent of employees earn more than 95,000?"
   ]
  },
  {
   "cell_type": "code",
   "execution_count": 42,
   "id": "6e4a0d8f",
   "metadata": {},
   "outputs": [
    {
     "data": {
      "text/plain": [
       "0.09208819199804053"
      ]
     },
     "execution_count": 42,
     "metadata": {},
     "output_type": "execute_result"
    }
   ],
   "source": [
    "stats.norm(μ, σ).sf(95_000)"
   ]
  },
  {
   "cell_type": "markdown",
   "id": "17ae2d05",
   "metadata": {},
   "source": [
    "- What percent of employees earn between 65,000 and 80,000?"
   ]
  },
  {
   "cell_type": "code",
   "execution_count": 43,
   "id": "366991bd",
   "metadata": {},
   "outputs": [
    {
     "data": {
      "text/plain": [
       "array([0.33506057])"
      ]
     },
     "execution_count": 43,
     "metadata": {},
     "output_type": "execute_result"
    }
   ],
   "source": [
    "np.diff(stats.norm(μ, σ).cdf([65000, 80000]))"
   ]
  },
  {
   "cell_type": "markdown",
   "id": "f9f5d3ef",
   "metadata": {},
   "source": [
    "- What do the top 5% of employees make?"
   ]
  },
  {
   "cell_type": "code",
   "execution_count": 44,
   "id": "e95d45a2",
   "metadata": {},
   "outputs": [
    {
     "data": {
      "text/plain": [
       "100484.64454102777"
      ]
     },
     "execution_count": 44,
     "metadata": {},
     "output_type": "execute_result"
    }
   ],
   "source": [
    "stats.norm(μ, σ).isf(.05)"
   ]
  }
 ],
 "metadata": {
  "kernelspec": {
   "display_name": "Python 3 (ipykernel)",
   "language": "python",
   "name": "python3"
  },
  "language_info": {
   "codemirror_mode": {
    "name": "ipython",
    "version": 3
   },
   "file_extension": ".py",
   "mimetype": "text/x-python",
   "name": "python",
   "nbconvert_exporter": "python",
   "pygments_lexer": "ipython3",
   "version": "3.9.12"
  }
 },
 "nbformat": 4,
 "nbformat_minor": 5
}
