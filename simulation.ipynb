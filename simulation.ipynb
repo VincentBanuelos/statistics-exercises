{
 "cells": [
  {
   "cell_type": "code",
   "execution_count": 1,
   "id": "07b6782a",
   "metadata": {},
   "outputs": [],
   "source": [
    "%matplotlib inline\n",
    "import numpy as np\n",
    "import pandas as pd\n",
    "\n",
    "np.random.seed(123)"
   ]
  },
  {
   "cell_type": "markdown",
   "id": "407177ff",
   "metadata": {},
   "source": [
    "1. How likely is it that you roll doubles when rolling two dice?"
   ]
  },
  {
   "cell_type": "code",
   "execution_count": 2,
   "id": "06bebeec",
   "metadata": {},
   "outputs": [
    {
     "name": "stdout",
     "output_type": "stream",
     "text": [
      "The percent of you rolling doubles is 16.5%\n"
     ]
    }
   ],
   "source": [
    "n_trials = nrows = 100_000\n",
    "n_dice = ncols = 2\n",
    "\n",
    "rolls = np.random.choice([1, 2, 3, 4, 5, 6], n_trials * n_dice).reshape(nrows, ncols)\n",
    "rolls\n",
    "\n",
    "doubles = []\n",
    "for roll in rolls:\n",
    "    if roll[0] == roll[1]:\n",
    "        doubles.append(1)\n",
    "    else:\n",
    "        doubles.append(0)\n",
    "\n",
    "percent_doubles = round((sum(doubles)/len(doubles) * 100), 2)\n",
    "\n",
    "print(f'The percent of you rolling doubles is {percent_doubles}%')"
   ]
  },
  {
   "cell_type": "markdown",
   "id": "ff1e3dcb",
   "metadata": {},
   "source": [
    "2. If you flip 8 coins, what is the probability of getting exactly 3 heads? What is the probability of getting more than 3 heads?"
   ]
  },
  {
   "cell_type": "code",
   "execution_count": 3,
   "id": "44900d2f",
   "metadata": {},
   "outputs": [
    {
     "name": "stdout",
     "output_type": "stream",
     "text": [
      "The probability of getting exactly three heads per 8 coin flips are 22.13%\n",
      "The probability of getting more than three heads per 8 coin flips are 63.37%\n"
     ]
    }
   ],
   "source": [
    "outcomes = ['H','T']\n",
    "\n",
    "n_simulations = 100_000\n",
    "n_flips = 8\n",
    "\n",
    "coinflips = np.random.choice(outcomes, (n_simulations, n_flips))\n",
    "coinflips #This will run the simulation of coinflips.\n",
    "\n",
    "sum_of_coinflips = (coinflips == 'H').sum(axis=1)\n",
    "sum_of_coinflips #Sums up the amount of heads in each simulation.\n",
    "\n",
    "exactly_3H = sum_of_coinflips == 3\n",
    "exactly_3H #converts the sum_of_coinflips into a boolean array when head count is exactly 3\n",
    "\n",
    "prob_exactly_3H = round((exactly_3H.mean() * 100), 2)\n",
    "prob_exactly_3H #calculate percentage of sucessful trials where there are 3 heads in a simulation\n",
    "\n",
    "more_than_3H = sum_of_coinflips > 3\n",
    "more_than_3H #converts the sum_of_coinflips into a boolean array when head count is more than 3\n",
    "\n",
    "prob_more_than_3H = round((more_than_3H.mean() * 100), 2)\n",
    "prob_more_than_3H #calculate percentage of sucessful trials where there are more than 3 heads in a simulation\n",
    "\n",
    "\n",
    "print(f'The probability of getting exactly three heads per 8 coin flips are {prob_exactly_3H}%')\n",
    "print(f'The probability of getting more than three heads per 8 coin flips are {prob_more_than_3H}%')"
   ]
  },
  {
   "cell_type": "markdown",
   "id": "e16b8ee5",
   "metadata": {},
   "source": [
    "3. There are approximitely 3 web development cohorts for every 1 data science cohort at Codeup. Assuming that Codeup randomly selects an alumni to put on a billboard, what are the odds that the two billboards I drive past both have data science students on them?"
   ]
  },
  {
   "cell_type": "code",
   "execution_count": 4,
   "id": "b27fa07c",
   "metadata": {},
   "outputs": [
    {
     "data": {
      "text/plain": [
       "array([['DS', 'WD'],\n",
       "       ['WD', 'WD'],\n",
       "       ['WD', 'WD'],\n",
       "       ...,\n",
       "       ['WD', 'WD'],\n",
       "       ['DS', 'WD'],\n",
       "       ['WD', 'WD']], dtype='<U2')"
      ]
     },
     "execution_count": 4,
     "metadata": {},
     "output_type": "execute_result"
    }
   ],
   "source": [
    "cohorts = ['WD','WD','WD','DS']\n",
    "\n",
    "n_selections = 100_000\n",
    "n_billboards = 2\n",
    "\n",
    "student_on_billboard = np.random.choice(cohorts, (n_selections, n_billboards))\n",
    "student_on_billboard #This will give me the cohort selections per each random selection"
   ]
  },
  {
   "cell_type": "code",
   "execution_count": null,
   "id": "7f0189d9",
   "metadata": {},
   "outputs": [],
   "source": []
  }
 ],
 "metadata": {
  "kernelspec": {
   "display_name": "Python 3 (ipykernel)",
   "language": "python",
   "name": "python3"
  },
  "language_info": {
   "codemirror_mode": {
    "name": "ipython",
    "version": 3
   },
   "file_extension": ".py",
   "mimetype": "text/x-python",
   "name": "python",
   "nbconvert_exporter": "python",
   "pygments_lexer": "ipython3",
   "version": "3.9.12"
  }
 },
 "nbformat": 4,
 "nbformat_minor": 5
}
