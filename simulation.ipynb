{
 "cells": [
  {
   "cell_type": "code",
   "execution_count": 1,
   "id": "e2eeb396",
   "metadata": {},
   "outputs": [],
   "source": [
    "%matplotlib inline\n",
    "import numpy as np\n",
    "import pandas as pd\n",
    "\n",
    "np.random.seed(123)"
   ]
  },
  {
   "cell_type": "markdown",
   "id": "f973d137",
   "metadata": {},
   "source": [
    "1. How likely is it that you roll doubles when rolling two dice?"
   ]
  },
  {
   "cell_type": "code",
   "execution_count": 2,
   "id": "231a3208",
   "metadata": {},
   "outputs": [
    {
     "name": "stdout",
     "output_type": "stream",
     "text": [
      "The percent of you rolling doubles is 16.5%\n"
     ]
    }
   ],
   "source": [
    "n_trials = nrows = 100_000\n",
    "n_dice = ncols = 2\n",
    "\n",
    "rolls = np.random.choice([1, 2, 3, 4, 5, 6], n_trials * n_dice).reshape(nrows, ncols)\n",
    "rolls\n",
    "\n",
    "doubles = []\n",
    "for roll in rolls:\n",
    "    if roll[0] == roll[1]:\n",
    "        doubles.append(1)\n",
    "    else:\n",
    "        doubles.append(0)\n",
    "\n",
    "percent_doubles = round((sum(doubles)/len(doubles) * 100), 2)\n",
    "\n",
    "print(f'The percent of you rolling doubles is {percent_doubles}%')"
   ]
  },
  {
   "cell_type": "code",
   "execution_count": 17,
   "id": "37b8a7fd",
   "metadata": {},
   "outputs": [
    {
     "data": {
      "text/plain": [
       "16.5"
      ]
     },
     "execution_count": 17,
     "metadata": {},
     "output_type": "execute_result"
    }
   ],
   "source": [
    "#DF METHOD\n",
    "\n",
    "rolls_df = pd.DataFrame(rolls)\n",
    "rolls_df\n",
    "\n",
    "percent_of_doubles = (rolls_df[0] == rolls_df[1]).mean()\n",
    "percent_doubles"
   ]
  },
  {
   "cell_type": "markdown",
   "id": "db44f8f2",
   "metadata": {},
   "source": [
    "2. If you flip 8 coins, what is the probability of getting exactly 3 heads? What is the probability of getting more than 3 heads?"
   ]
  },
  {
   "cell_type": "code",
   "execution_count": 4,
   "id": "727ef075",
   "metadata": {},
   "outputs": [
    {
     "name": "stdout",
     "output_type": "stream",
     "text": [
      "The probability of getting exactly three heads per 8 coin flips are 22.13%\n",
      "The probability of getting more than three heads per 8 coin flips are 63.37%\n"
     ]
    }
   ],
   "source": [
    "outcomes = ['H','T']\n",
    "\n",
    "n_simulations = 100_000\n",
    "n_flips = 8\n",
    "\n",
    "coinflips = np.random.choice(outcomes, (n_simulations, n_flips))\n",
    "coinflips #This will run the simulation of coinflips.\n",
    "\n",
    "sum_of_coinflips = (coinflips == 'H').sum(axis=1)\n",
    "sum_of_coinflips #Sums up the amount of heads in each simulation.\n",
    "\n",
    "exactly_3H = sum_of_coinflips == 3\n",
    "exactly_3H #converts the sum_of_coinflips into a boolean array when head count is exactly 3\n",
    "\n",
    "prob_exactly_3H = round((exactly_3H.mean() * 100), 2)\n",
    "prob_exactly_3H #calculate percentage of sucessful trials where there are 3 heads in a simulation\n",
    "\n",
    "more_than_3H = sum_of_coinflips > 3\n",
    "more_than_3H #converts the sum_of_coinflips into a boolean array when head count is more than 3\n",
    "\n",
    "prob_more_than_3H = round((more_than_3H.mean() * 100), 2)\n",
    "prob_more_than_3H #calculate percentage of sucessful trials where there are more than 3 heads in a simulation\n",
    "\n",
    "\n",
    "print(f'The probability of getting exactly three heads per 8 coin flips are {prob_exactly_3H}%')\n",
    "print(f'The probability of getting more than three heads per 8 coin flips are {prob_more_than_3H}%')"
   ]
  },
  {
   "cell_type": "markdown",
   "id": "f05e8139",
   "metadata": {},
   "source": [
    "3. There are approximitely 3 web development cohorts for every 1 data science cohort at Codeup. Assuming that Codeup randomly selects an alumni to put on a billboard, what are the odds that the two billboards I drive past both have data science students on them?"
   ]
  },
  {
   "cell_type": "code",
   "execution_count": 5,
   "id": "3b3feda3",
   "metadata": {},
   "outputs": [
    {
     "name": "stdout",
     "output_type": "stream",
     "text": [
      "The percent of you both the students being Data science students is 6.34%\n"
     ]
    }
   ],
   "source": [
    "cohorts = ['WD','WD','WD','DS']\n",
    "\n",
    "n_selections = 100_000\n",
    "n_billboards = 2\n",
    "\n",
    "student_on_billboard = np.random.choice(cohorts, (n_selections, n_billboards))\n",
    "student_on_billboard #This will give me the cohort selections per each random selection\n",
    "\n",
    "both_ds = []\n",
    "for students in student_on_billboard:\n",
    "    if (students[0] == 'DS') & (students[1] == 'DS'):\n",
    "        both_ds.append(1)\n",
    "    else:\n",
    "        both_ds.append(0)\n",
    "        \n",
    "percent_both_ds = round((sum(both_ds)/len(both_ds) * 100),2)\n",
    "percent_both_ds\n",
    "\n",
    "print(f'The percent of you both the students being Data science students is {percent_both_ds}%')"
   ]
  },
  {
   "cell_type": "markdown",
   "id": "25c228a7",
   "metadata": {},
   "source": [
    "4. Codeup students buy, on average, 3 poptart packages with a standard deviation of 1.5 a day from the snack vending machine. If on monday the machine is restocked with 17 poptart packages, how likely is it that I will be able to buy some poptarts on Friday afternoon? (Remember, if you have mean and standard deviation, use the np.random.normal) You'll need to make a judgement call on how to handle some of your values"
   ]
  },
  {
   "cell_type": "code",
   "execution_count": 20,
   "id": "01a2c6b2",
   "metadata": {},
   "outputs": [
    {
     "name": "stdout",
     "output_type": "stream",
     "text": [
      " The probability of there still being poptarts on friday are 72.58%\n"
     ]
    }
   ],
   "source": [
    "poptarts_bought = np.random.normal(3, 1.5, size=(100_000, 5))\n",
    "poptarts_bought #This will give me how many poptarts were bought each day.\n",
    "\n",
    "bought_per_week = poptarts_bought.sum(axis=1)\n",
    "bought_per_week\n",
    "\n",
    "still_some_on_friday = (bought_per_week < 17).mean()\n",
    "still_some_on_friday\n",
    "\n",
    "prob_of_still_some_on_Friday = round(still_some_on_friday * 100, 2)\n",
    "prob_of_still_some_on_Friday\n",
    "\n",
    "print(f' The probability of there still being poptarts on friday are {prob_of_still_some_on_Friday}%')"
   ]
  },
  {
   "cell_type": "markdown",
   "id": "5ceca488",
   "metadata": {},
   "source": [
    "5. Compare Heights\n",
    "- Men have an average height of 178 cm and standard deviation of 8cm.\n",
    "- Women have a mean of 170, sd = 6cm.\n",
    "- Since you have means and standard deviations, you can use np.random.normal to generate observations.\n",
    "- If a man and woman are chosen at random, what is the likelihood the woman is taller than the man?"
   ]
  },
  {
   "cell_type": "code",
   "execution_count": 22,
   "id": "5cb9c426",
   "metadata": {},
   "outputs": [
    {
     "name": "stdout",
     "output_type": "stream",
     "text": [
      "Women are taller than men 21.15% of the time\n"
     ]
    }
   ],
   "source": [
    "mens_height = np.random.normal(178, 8, size=(100_000,1))\n",
    "womens_height = np.random.normal(170, 6, size=(100_000,1))\n",
    "\n",
    "women_taller_than_men = round(((mens_height < womens_height).mean()) * 100, 2)\n",
    "women_taller_than_men\n",
    "\n",
    "print(f'Women are taller than men {women_taller_than_men}% of the time')"
   ]
  },
  {
   "cell_type": "markdown",
   "id": "db64af8c",
   "metadata": {},
   "source": [
    "6. When installing anaconda on a student's computer, there's a 1 in 250 chance that the download is corrupted and the installation fails. What are the odds that after having 50 students download anaconda, no one has an installation issue? 100 students?\n",
    "\n",
    "- What is the probability that we observe an installation issue within the first 150 students that download anaconda?\n",
    "\n",
    "- How likely is it that 450 students all download anaconda without an issue?"
   ]
  },
  {
   "cell_type": "code",
   "execution_count": 54,
   "id": "d245a032",
   "metadata": {},
   "outputs": [
    {
     "name": "stdout",
     "output_type": "stream",
     "text": [
      " There is a 82.19% chance of there being no download issues.\n"
     ]
    }
   ],
   "source": [
    "#50 Students\n",
    "download_outcomes = ['OOF', 'G2G']\n",
    "trials = 100_000\n",
    "n_downloads = 50\n",
    "\n",
    "downloads = np.random.choice(download_outcomes, size=(trials, n_downloads), \n",
    "                p = [1/250, 249/250])\n",
    "\n",
    "test1 = round(((downloads == 'G2G').sum(axis=1) == n_downloads).mean() * 100, 2)\n",
    "\n",
    "print(f' There is a {test1}% chance of there being no download issues.')"
   ]
  },
  {
   "cell_type": "code",
   "execution_count": 55,
   "id": "3c7ad818",
   "metadata": {},
   "outputs": [
    {
     "name": "stdout",
     "output_type": "stream",
     "text": [
      " There is a 66.88% chance of there being no download issues.\n"
     ]
    }
   ],
   "source": [
    "#100 students\n",
    "download_outcomes = ['OOF', 'G2G']\n",
    "trials = 100_000\n",
    "fiddy_downloads = 100\n",
    "\n",
    "downloads = np.random.choice(download_outcomes, size=(trials, fiddy_downloads), \n",
    "                p = [1/250, 249/250])\n",
    "\n",
    "test2 = round(((downloads == 'G2G').sum(axis=1) == fiddy_downloads).mean() * 100, 2)\n",
    "\n",
    "print(f' There is a {test2}% chance of there being no download issues.')"
   ]
  },
  {
   "cell_type": "code",
   "execution_count": 57,
   "id": "410991c5",
   "metadata": {},
   "outputs": [
    {
     "name": "stdout",
     "output_type": "stream",
     "text": [
      " There is a 55.03% chance of there being no download issues.\n"
     ]
    }
   ],
   "source": [
    "#150 students\n",
    "download_outcomes = ['OOF', 'G2G']\n",
    "trials = 100_000\n",
    "n_downloads = 150\n",
    "\n",
    "downloads = np.random.choice(download_outcomes, size=(trials, n_downloads), \n",
    "                p = [1/250, 249/250])\n",
    "\n",
    "test3 = round(((downloads == 'G2G').sum(axis=1) == n_downloads).mean() * 100, 2)\n",
    "\n",
    "print(f' There is a {test3}% chance of there being no download issues.')"
   ]
  },
  {
   "cell_type": "code",
   "execution_count": 58,
   "id": "88b39cb8",
   "metadata": {},
   "outputs": [
    {
     "name": "stdout",
     "output_type": "stream",
     "text": [
      " There is a 16.49% chance of there being no download issues.\n"
     ]
    }
   ],
   "source": [
    "#450 students\n",
    "download_outcomes = ['OOF', 'G2G']\n",
    "trials = 100_000\n",
    "n_downloads = 450\n",
    "\n",
    "downloads = np.random.choice(download_outcomes, size=(trials, n_downloads), \n",
    "                p = [1/250, 249/250])\n",
    "\n",
    "test3 = round(((downloads == 'G2G').sum(axis=1) == n_downloads).mean() * 100, 2)\n",
    "\n",
    "print(f' There is a {test3}% chance of there being no download issues.')"
   ]
  },
  {
   "cell_type": "markdown",
   "id": "8547460a",
   "metadata": {},
   "source": [
    "7. There's a 70% chance on any given day that there will be at least one food truck at Travis Park. However, you haven't seen a food truck there in 3 days. How unlikely is this?"
   ]
  },
  {
   "cell_type": "code",
   "execution_count": 12,
   "id": "bea20c77",
   "metadata": {},
   "outputs": [
    {
     "name": "stdout",
     "output_type": "stream",
     "text": [
      "The probability of a food truck not being there for three days is only 2.67%\n"
     ]
    }
   ],
   "source": [
    "food_truck_outcomes = ['NOTRUCK', 'TRUCK']\n",
    "times_checked = 100_000\n",
    "days = 3\n",
    "\n",
    "will_i_see_it = np.random.choice(food_truck_outcomes, size=(times_checked,days), p=[(3/10),(7/10)] )\n",
    "will_i_see_it\n",
    "\n",
    "truck_count = (will_i_see_it == 'NOTRUCK').sum(axis=1)\n",
    "\n",
    "three_days_no_truck = (truck_count == 3)\n",
    "\n",
    "prob_no_truck_for_three_days = round(three_days_no_truck.mean() * 100, 2)\n",
    "prob_no_truck_for_three_days\n",
    "\n",
    "print(f'The probability of a food truck not being there for three days is only {prob_no_truck_for_three_days}%')"
   ]
  },
  {
   "cell_type": "markdown",
   "id": "a70e0f58",
   "metadata": {},
   "source": [
    "How likely is it that a food truck will show up sometime this week?"
   ]
  },
  {
   "cell_type": "code",
   "execution_count": 13,
   "id": "b6f144cc",
   "metadata": {},
   "outputs": [
    {
     "name": "stdout",
     "output_type": "stream",
     "text": [
      "The probability of a food truck showing this week is 99.98%\n"
     ]
    }
   ],
   "source": [
    "food_truck_outcomes = ['NOTRUCK', 'TRUCK']\n",
    "times_checked = 100_000\n",
    "days = 7\n",
    "\n",
    "will_i_see_it = np.random.choice(food_truck_outcomes, size=(times_checked,days), p=[(3/10),(7/10)] )\n",
    "will_i_see_it\n",
    "\n",
    "truck_count = (will_i_see_it == 'TRUCK').sum(axis=1)\n",
    "\n",
    "truckshow = (truck_count >= 1)\n",
    "truckshow\n",
    "\n",
    "did_one_show = round(truckshow.mean() * 100, 2)\n",
    "print(f'The probability of a food truck showing this week is {did_one_show}%')"
   ]
  },
  {
   "cell_type": "markdown",
   "id": "81c1b82b",
   "metadata": {},
   "source": [
    "8. If 23 people are in the same room, what are the odds that two of them share a birthday? What if it's 20 people? 40?"
   ]
  },
  {
   "cell_type": "code",
   "execution_count": 14,
   "id": "b47a9426",
   "metadata": {},
   "outputs": [
    {
     "name": "stdout",
     "output_type": "stream",
     "text": [
      "In a room full of 23 people there is a 50.76% that two people will share a birthday.\n"
     ]
    }
   ],
   "source": [
    "birthdays = list(range(1,366))\n",
    "n_trials = 100_000\n",
    "n_people = 23\n",
    "\n",
    "rooms = np.random.choice(birthdays, size = (n_trials, n_people))\n",
    "rooms\n",
    "\n",
    "rooms_df = pd.DataFrame(rooms)\n",
    "rooms_df\n",
    "\n",
    "rooms_df['num_unique'] = rooms_df.nunique(axis=1)\n",
    "rooms_df\n",
    "\n",
    "percent_shared_birthdays = round((rooms_df.num_unique != 23).mean() *100, 2)\n",
    "print(f'In a room full of 23 people there is a {percent_shared_birthdays}% that two people will share a birthday.')"
   ]
  },
  {
   "cell_type": "code",
   "execution_count": 23,
   "id": "b4340cc5",
   "metadata": {},
   "outputs": [
    {
     "name": "stdout",
     "output_type": "stream",
     "text": [
      "In a room full of 20 people there is a 40.94% that two people will share a birthday.\n"
     ]
    }
   ],
   "source": [
    "birthdays = list(range(1,366))\n",
    "n_trials = 100_000\n",
    "n_people = 20\n",
    "\n",
    "rooms = np.random.choice(birthdays, size = (n_trials, n_people))\n",
    "rooms\n",
    "\n",
    "rooms_df = pd.DataFrame(rooms)\n",
    "rooms_df\n",
    "\n",
    "rooms_df['num_unique'] = rooms_df.nunique(axis=1)\n",
    "rooms_df\n",
    "\n",
    "percent_shared_birthdays = round((rooms_df.num_unique != 20).mean() *100, 2)\n",
    "print(f'In a room full of 20 people there is a {percent_shared_birthdays}% that two people will share a birthday.')"
   ]
  },
  {
   "cell_type": "code",
   "execution_count": 25,
   "id": "f390bfd3",
   "metadata": {},
   "outputs": [
    {
     "name": "stdout",
     "output_type": "stream",
     "text": [
      "In a room full of 40 people there is a 89.17% that two people will share a birthday.\n"
     ]
    }
   ],
   "source": [
    "birthdays = list(range(1,366))\n",
    "n_trials = 100_000\n",
    "n_people = 40\n",
    "\n",
    "rooms = np.random.choice(birthdays, size = (n_trials, n_people))\n",
    "rooms\n",
    "\n",
    "rooms_df = pd.DataFrame(rooms)\n",
    "rooms_df\n",
    "\n",
    "rooms_df['num_unique'] = rooms_df.nunique(axis=1)\n",
    "rooms_df\n",
    "\n",
    "percent_shared_birthdays = round((rooms_df.num_unique != 40).mean() *100, 2)\n",
    "print(f'In a room full of 40 people there is a {percent_shared_birthdays}% that two people will share a birthday.')"
   ]
  }
 ],
 "metadata": {
  "kernelspec": {
   "display_name": "Python 3 (ipykernel)",
   "language": "python",
   "name": "python3"
  },
  "language_info": {
   "codemirror_mode": {
    "name": "ipython",
    "version": 3
   },
   "file_extension": ".py",
   "mimetype": "text/x-python",
   "name": "python",
   "nbconvert_exporter": "python",
   "pygments_lexer": "ipython3",
   "version": "3.9.12"
  }
 },
 "nbformat": 4,
 "nbformat_minor": 5
}
